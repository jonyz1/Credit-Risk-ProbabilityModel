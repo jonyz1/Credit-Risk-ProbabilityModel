{
 "cells": [
  {
   "cell_type": "code",
   "execution_count": null,
   "id": "1d3b2aba-7361-4dcf-a3c3-29427d572967",
   "metadata": {},
   "outputs": [],
   "source": [
    "import pandas as pd\n",
    "import numpy as np\n",
    "import matplotlib.pyplot as plt\n",
    "import seaborn as sns\n",
    "# Load the uploaded dataset\n",
    "df = pd.read_csv('../data/raw/data.csv')"
   ]
  },
  {
   "cell_type": "code",
   "execution_count": null,
   "id": "8907a35c-b20d-4930-9af9-5126a0779f92",
   "metadata": {},
   "outputs": [],
   "source": [
    "df.info()"
   ]
  },
  {
   "cell_type": "code",
   "execution_count": null,
   "id": "458d5f3c-329a-462c-b1bf-d38bd7fa58c7",
   "metadata": {},
   "outputs": [],
   "source": [
    "df.head()"
   ]
  },
  {
   "cell_type": "code",
   "execution_count": null,
   "id": "6034530e-ff3d-4442-952f-6bec40ae7699",
   "metadata": {},
   "outputs": [],
   "source": [
    "# Summary Statistics for Numerical Features\n",
    "summary_stats = df.describe()\n",
    "\n",
    "# Checking for missing values\n",
    "missing_values = df.isnull().sum()\n",
    "\n",
    "# Extracting numerical and categorical columns\n",
    "numerical_cols = df.select_dtypes(include=['float64', 'int64']).columns.tolist()\n",
    "categorical_cols = df.select_dtypes(include=['object']).columns.tolist()\n",
    "\n",
    "# Prepare results\n",
    "summary_stats, missing_values, numerical_cols, categorical_cols"
   ]
  },
  {
   "cell_type": "code",
   "execution_count": null,
   "id": "bd79ea8e-0b89-4d2b-827a-0cc84122ea03",
   "metadata": {},
   "outputs": [],
   "source": []
  },
  {
   "cell_type": "code",
   "execution_count": null,
   "id": "56f9ac19-fa38-4389-81c1-b0aa9e0f0bd0",
   "metadata": {},
   "outputs": [],
   "source": [
    "import matplotlib.pyplot as plt\n",
    "import seaborn as sns\n",
    "\n",
    "# Selecting numerical columns to visualize (excluding constant 'CountryCode')\n",
    "numerical_cols = ['Amount', 'Value', 'PricingStrategy']\n",
    "\n",
    "# Set up the plotting grid\n",
    "plt.figure(figsize=(15, 12))\n",
    "\n",
    "# Loop to plot distributions with KDE for each numerical feature\n",
    "for idx, col in enumerate(numerical_cols):\n",
    "    plt.subplot(3, 1, idx + 1)\n",
    "    sns.histplot(df[col], kde=True, bins=50, color='skyblue')\n",
    "    plt.title(f'Distribution of {col}')\n",
    "    plt.xlabel(col)\n",
    "    plt.ylabel('Frequency')\n",
    "\n",
    "plt.tight_layout()\n",
    "plt.show()\n"
   ]
  },
  {
   "cell_type": "code",
   "execution_count": null,
   "id": "42521f47-b126-49e0-8e8d-ce8488ad06ee",
   "metadata": {},
   "outputs": [],
   "source": [
    "numerical_cols = ['Amount', 'Value']  # Add more if applicable\n",
    "\n",
    "for col in numerical_cols:\n",
    "    plt.figure(figsize=(6,4))\n",
    "    sns.histplot(df[col], kde=True)\n",
    "    plt.title(f'Distribution of {col}')\n",
    "    plt.show()"
   ]
  },
  {
   "cell_type": "code",
   "execution_count": null,
   "id": "f0755e1a-1e63-4854-a200-25e4763cd967",
   "metadata": {},
   "outputs": [],
   "source": []
  },
  {
   "cell_type": "code",
   "execution_count": null,
   "id": "3468a5cb-9716-4820-b203-be8a2bf2a785",
   "metadata": {},
   "outputs": [],
   "source": [
    "for col in numerical_cols:\n",
    "    plt.figure(figsize=(6,4))\n",
    "    sns.boxplot(x=df[col])\n",
    "    plt.title(f'Boxplot of {col}')\n",
    "    plt.show()\n"
   ]
  },
  {
   "cell_type": "code",
   "execution_count": null,
   "id": "18156ba5-357e-4b6a-85ab-3f99f7e6ea74",
   "metadata": {},
   "outputs": [],
   "source": [
    "categorical_cols = ['ProductCategory', 'ChannelId', 'PricingStrategy', 'FraudResult']\n",
    "\n",
    "for col in categorical_cols:\n",
    "    plt.figure(figsize=(6,4))\n",
    "    sns.countplot(x=col, data=df)\n",
    "    plt.title(f'Distribution of {col}')\n",
    "    plt.xticks(rotation=45)\n",
    "    plt.show()\n"
   ]
  },
  {
   "cell_type": "code",
   "execution_count": null,
   "id": "9d79e7ba-43ca-4231-b4de-f317b93ec3ce",
   "metadata": {},
   "outputs": [],
   "source": [
    "corr_matrix = df.corr(numeric_only=True)\n",
    "plt.figure(figsize=(8,6))\n",
    "sns.heatmap(corr_matrix, annot=True, cmap='coolwarm')\n",
    "plt.title(\"Correlation Heatmap\")\n",
    "plt.show()\n"
   ]
  },
  {
   "cell_type": "code",
   "execution_count": null,
   "id": "aa499dc1-a37c-43a0-90e1-3067b07a19aa",
   "metadata": {},
   "outputs": [],
   "source": []
  }
 ],
 "metadata": {
  "kernelspec": {
   "display_name": "Python 3 (ipykernel)",
   "language": "python",
   "name": "python3"
  },
  "language_info": {
   "codemirror_mode": {
    "name": "ipython",
    "version": 3
   },
   "file_extension": ".py",
   "mimetype": "text/x-python",
   "name": "python",
   "nbconvert_exporter": "python",
   "pygments_lexer": "ipython3",
   "version": "3.11.2"
  }
 },
 "nbformat": 4,
 "nbformat_minor": 5
}
